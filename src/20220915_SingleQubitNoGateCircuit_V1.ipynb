{
 "cells": [
  {
   "cell_type": "markdown",
   "id": "6a2518e8",
   "metadata": {},
   "source": [
    "# Single Simple Qubit Circuits\n",
    "A single qubit circuit with no gates executed on a quantum virtual machine, `qvm`."
   ]
  },
  {
   "cell_type": "markdown",
   "id": "b2c695d6",
   "metadata": {},
   "source": [
    "## Load non pyquil packages"
   ]
  },
  {
   "cell_type": "code",
   "execution_count": 25,
   "id": "92ec2f7e",
   "metadata": {},
   "outputs": [],
   "source": [
    "import numpy as np \n",
    "np.set_printoptions(precision=18)\n",
    "from numpy.linalg import inv\n",
    "import os\n",
    "import matplotlib.pyplot as plt\n",
    "from matplotlib.pyplot import figure"
   ]
  },
  {
   "cell_type": "markdown",
   "id": "13da7112",
   "metadata": {},
   "source": [
    "## Load pyquiil packages"
   ]
  },
  {
   "cell_type": "code",
   "execution_count": 43,
   "id": "49006f68",
   "metadata": {},
   "outputs": [],
   "source": [
    "from pyquil import Program\n",
    "from pyquil.quil import Pragma\n",
    "from pyquil.gates import *\n",
    "from pyquil import get_qc\n",
    "from pyquil.latex import display\n",
    "from pyquil.quantum_processor import NxQuantumProcessor"
   ]
  },
  {
   "cell_type": "markdown",
   "id": "a39866df",
   "metadata": {},
   "source": [
    "### Get a qvm simulator\n",
    "A $1$ qubit virtual machine is used. I define two qvm's here, one not-noisy and one noisy."
   ]
  },
  {
   "cell_type": "code",
   "execution_count": 4,
   "id": "4efd443a",
   "metadata": {},
   "outputs": [],
   "source": [
    "qc_noiseless = get_qc('1q-qvm',noisy=False) \n",
    "qc_noisy = get_qc('1q-qvm',noisy=True) "
   ]
  },
  {
   "cell_type": "markdown",
   "id": "5ef45056",
   "metadata": {},
   "source": [
    "#### Define some parameters"
   ]
  },
  {
   "cell_type": "code",
   "execution_count": 5,
   "id": "8240087d",
   "metadata": {},
   "outputs": [],
   "source": [
    "num_qubits = 1\n",
    "qubit = 0\n",
    "shots = 10_000"
   ]
  },
  {
   "cell_type": "markdown",
   "id": "f9e0b7ab",
   "metadata": {},
   "source": [
    "### Define a function to test the circuit"
   ]
  },
  {
   "cell_type": "code",
   "execution_count": 11,
   "id": "779d23b6",
   "metadata": {},
   "outputs": [],
   "source": [
    "def single_simple_circuit(qvm,num_qubits,qubit,shots):\n",
    "    p = Program()\n",
    "    ro = p.declare(\"ro\", \"BIT\", num_qubits)        \n",
    "    p += MEASURE(qubit, ro)\n",
    "    p.wrap_in_numshots_loop(shots)\n",
    "    compiled_circuit = qvm.compile(p)\n",
    "    measured_qubits = qvm.run(compiled_circuit).readout_data.get(\"ro\")\n",
    "    return measured_qubits"
   ]
  },
  {
   "cell_type": "markdown",
   "id": "96de2e63",
   "metadata": {},
   "source": [
    "### Circuit plot"
   ]
  },
  {
   "cell_type": "markdown",
   "id": "6db85069",
   "metadata": {},
   "source": [
    "### Run and compile the circuit"
   ]
  },
  {
   "cell_type": "code",
   "execution_count": 36,
   "id": "2951989c",
   "metadata": {},
   "outputs": [],
   "source": [
    "noisless_results = single_simple_circuit(qc_noiseless,num_qubits,qubit,shots)\n",
    "noisy_results = single_simple_circuit(qc_noisy,num_qubits,qubit,shots)"
   ]
  },
  {
   "cell_type": "markdown",
   "id": "b836647d",
   "metadata": {},
   "source": [
    "### Plot the noisless results"
   ]
  },
  {
   "cell_type": "code",
   "execution_count": 33,
   "id": "8133e0ec",
   "metadata": {},
   "outputs": [
    {
     "data": {
      "image/png": "[encoded data removed]",
      "text/plain": [
       "<Figure size 400x400 with 1 Axes>"
      ]
     },
     "metadata": {
      "needs_background": "light"
     },
     "output_type": "display_data"
    }
   ],
   "source": [
    "figure(figsize=(4, 4), dpi=100)\n",
    "plt.hist(noisless_results)\n",
    "plt.xlim([0, 1])\n",
    "plt.xticks(np.arange(2), ['0', '1'])\n",
    "plt.show()"
   ]
  },
  {
   "cell_type": "markdown",
   "id": "94215829",
   "metadata": {},
   "source": [
    "### Plot noisy results"
   ]
  },
  {
   "cell_type": "code",
   "execution_count": 34,
   "id": "7826dd77",
   "metadata": {},
   "outputs": [
    {
     "data": {
      "image/png": "[encoded data removed]",
      "text/plain": [
       "<Figure size 400x400 with 1 Axes>"
      ]
     },
     "metadata": {
      "needs_background": "light"
     },
     "output_type": "display_data"
    }
   ],
   "source": [
    "figure(figsize=(4, 4), dpi=100)\n",
    "plt.hist(noisy_results)\n",
    "plt.xlim([0, 1])\n",
    "plt.xticks(np.arange(2), ['0', '1'])\n",
    "plt.show()"
   ]
  },
  {
   "cell_type": "markdown",
   "id": "6dec2601",
   "metadata": {},
   "source": [
    "Even with no gates and a single qubit, the noisy `qvm` produces some effects on the system."
   ]
  },
  {
   "cell_type": "code",
   "execution_count": null,
   "id": "0fdb20d1",
   "metadata": {},
   "outputs": [],
   "source": []
  }
 ],
 "metadata": {
  "kernelspec": {
   "display_name": "Python 3 (ipykernel)",
   "language": "python",
   "name": "python3"
  },
  "language_info": {
   "codemirror_mode": {
    "name": "ipython",
    "version": 3
   },
   "file_extension": ".py",
   "mimetype": "text/x-python",
   "name": "python",
   "nbconvert_exporter": "python",
   "pygments_lexer": "ipython3",
   "version": "3.9.12"
  }
 },
 "nbformat": 4,
 "nbformat_minor": 5
}
