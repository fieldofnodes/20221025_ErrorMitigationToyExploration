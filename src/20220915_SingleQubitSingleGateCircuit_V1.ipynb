{
 "cells": [
  {
   "cell_type": "markdown",
   "id": "6a2518e8",
   "metadata": {},
   "source": [
    "# Single Simple Qubit Circuits\n",
    "A single qubit circuit with no gates executed on a quantum virtual machine, `qvm`."
   ]
  },
  {
   "cell_type": "markdown",
   "id": "b2c695d6",
   "metadata": {},
   "source": [
    "## Load non pyquil packages"
   ]
  },
  {
   "cell_type": "code",
   "execution_count": 277,
   "id": "92ec2f7e",
   "metadata": {},
   "outputs": [],
   "source": [
    "import numpy as np \n",
    "np.set_printoptions(precision=18)\n",
    "from numpy.linalg import inv\n",
    "import os\n",
    "import matplotlib.pyplot as plt\n",
    "from matplotlib.pyplot import figure\n",
    "plt.rcParams.update({'font.size': 16})\n",
    "plt.rc('xtick', labelsize=12)\n",
    "\n",
    "import itertools"
   ]
  },
  {
   "cell_type": "markdown",
   "id": "13da7112",
   "metadata": {},
   "source": [
    "## Load pyquiil packages"
   ]
  },
  {
   "cell_type": "code",
   "execution_count": 2,
   "id": "49006f68",
   "metadata": {},
   "outputs": [
    {
     "name": "stderr",
     "output_type": "stream",
     "text": [
      "/home/fieldofnodes/anaconda3/envs/Rigetti/lib/python3.9/site-packages/scipy/__init__.py:146: UserWarning: A NumPy version >=1.16.5 and <1.23.0 is required for this version of SciPy (detected version 1.23.1\n",
      "  warnings.warn(f\"A NumPy version >={np_minversion} and <{np_maxversion}\"\n"
     ]
    }
   ],
   "source": [
    "from pyquil import Program\n",
    "from pyquil.quil import Pragma\n",
    "from pyquil.gates import *\n",
    "from pyquil import get_qc\n",
    "from pyquil.latex import display\n",
    "from pyquil.quantum_processor import NxQuantumProcessor"
   ]
  },
  {
   "cell_type": "markdown",
   "id": "a39866df",
   "metadata": {},
   "source": [
    "### Get a qvm simulator\n",
    "A $1$ qubit virtual machine is used. I define two qvm's here, one not-noisy and one noisy."
   ]
  },
  {
   "cell_type": "code",
   "execution_count": 3,
   "id": "4efd443a",
   "metadata": {},
   "outputs": [],
   "source": [
    "qc_noiseless = get_qc('1q-qvm',noisy=False) \n",
    "qc_noisy = get_qc('1q-qvm',noisy=True) "
   ]
  },
  {
   "cell_type": "markdown",
   "id": "5ef45056",
   "metadata": {},
   "source": [
    "#### Define some parameters"
   ]
  },
  {
   "cell_type": "code",
   "execution_count": 219,
   "id": "8240087d",
   "metadata": {},
   "outputs": [],
   "source": [
    "num_qubits = 1\n",
    "qubit = 0\n",
    "shots = 10_000\n",
    "phi = np.pi"
   ]
  },
  {
   "cell_type": "markdown",
   "id": "aeb8ae0a",
   "metadata": {},
   "source": [
    "### Define a list of all standard single qubit gates"
   ]
  },
  {
   "cell_type": "code",
   "execution_count": 107,
   "id": "de4576b1",
   "metadata": {},
   "outputs": [],
   "source": [
    "gates = {'I': I(qubit),'S': S(qubit), 'T': T(qubit),\n",
    "    'X': X(qubit),'Y': Y(qubit),'Z': Z(qubit),\n",
    "    'H': H(qubit),'RX': RX(phi,qubit),\n",
    "    'RY': RY(phi,qubit),'RZ': RZ(phi,qubit)}"
   ]
  },
  {
   "cell_type": "markdown",
   "id": "f9e0b7ab",
   "metadata": {},
   "source": [
    "### Define a functions to test the circuit and get statistics"
   ]
  },
  {
   "cell_type": "code",
   "execution_count": 108,
   "id": "4a6293c5",
   "metadata": {},
   "outputs": [],
   "source": [
    "def single_simple_circuit_single_gate_input(qvm,gate,num_qubits,qubit,shots):\n",
    "    p = Program()\n",
    "    ro = p.declare(\"ro\", \"BIT\", num_qubits)        \n",
    "    p += gate\n",
    "    p += MEASURE(qubit, ro)\n",
    "    p.wrap_in_numshots_loop(shots)\n",
    "    compiled_circuit = qvm.compile(p)\n",
    "    measured_qubits = qvm.run(compiled_circuit).readout_data.get(\"ro\")\n",
    "    return measured_qubits"
   ]
  },
  {
   "cell_type": "code",
   "execution_count": 202,
   "id": "9f67d5b8",
   "metadata": {},
   "outputs": [],
   "source": [
    "def get_count_single_qubit(compiled_circuit_data):\n",
    "    possible_combinations = list(itertools.product([0, 1], repeat=1))\n",
    "    string_comb = [str[i[0]] for i in possible_combinations]\n",
    "    array_comb = np.asarray(possible_combinations)\n",
    "    range_comb = range(len(possible_combinations))\n",
    "    count = {string_comb[i]: np.count_nonzero(compiled_circuit_data == array_comb[i]) for i in range_comb}\n",
    "    return count"
   ]
  },
  {
   "cell_type": "code",
   "execution_count": 205,
   "id": "5f2f685c",
   "metadata": {},
   "outputs": [],
   "source": [
    "def run_circuit_get_counts(qvm,gate):\n",
    "    circuit_data = single_simple_circuit_single_gate_input(qvm,gate,num_qubits,qubit,shots)\n",
    "    qubit_counts = get_count_single_qubit(circuit_data)\n",
    "    return qubit_counts"
   ]
  },
  {
   "cell_type": "code",
   "execution_count": 211,
   "id": "4efeaa4a",
   "metadata": {},
   "outputs": [],
   "source": [
    "def normalise_circuit_counts(qubit_counts,shots):\n",
    "        return {key: value/shots for key, value in qubit_counts.items()}"
   ]
  },
  {
   "cell_type": "code",
   "execution_count": 213,
   "id": "3f560189",
   "metadata": {},
   "outputs": [],
   "source": [
    "def run_circuit_get_norm_counts(qvm,gate,num_qubits,qubit,shots):\n",
    "    circuit_data = single_simple_circuit_single_gate_input(qvm,gate,num_qubits,qubit,shots)\n",
    "    qubit_counts = get_count_single_qubit(circuit_data)\n",
    "    return normalise_circuit_counts(qubit_counts,shots) "
   ]
  },
  {
   "cell_type": "code",
   "execution_count": 237,
   "id": "4200eaf4",
   "metadata": {},
   "outputs": [],
   "source": [
    "def barplot_dict(circuit_count_norm_results):\n",
    "    names = list(circuit_count_norm_results.keys())\n",
    "    values = list(circuit_count_norm_results.values())\n",
    "\n",
    "    plt.bar(range(len(circuit_count_norm_results)), values, tick_label=names)\n",
    "    return plt.show()"
   ]
  },
  {
   "cell_type": "markdown",
   "id": "833d40bf",
   "metadata": {},
   "source": [
    "## Sample noiseless and noisy with a simple I gate"
   ]
  },
  {
   "cell_type": "markdown",
   "id": "6db85069",
   "metadata": {},
   "source": [
    "### Run and compile the circuit"
   ]
  },
  {
   "cell_type": "code",
   "execution_count": 220,
   "id": "2951989c",
   "metadata": {},
   "outputs": [],
   "source": [
    "noisless_results = run_circuit_get_norm_counts(qc_noiseless,I(qubit),num_qubits,qubit,shots)\n",
    "noisy_results = run_circuit_get_norm_counts(qc_noisy,I(qubit),num_qubits,qubit,shots)"
   ]
  },
  {
   "cell_type": "markdown",
   "id": "b836647d",
   "metadata": {},
   "source": [
    "### Plot the noisless results"
   ]
  },
  {
   "cell_type": "code",
   "execution_count": 265,
   "id": "8133e0ec",
   "metadata": {},
   "outputs": [
    {
     "data": {
      "image/png": "[encoded data removed]",
      "text/plain": [
       "<Figure size 432x288 with 1 Axes>"
      ]
     },
     "metadata": {
      "needs_background": "light"
     },
     "output_type": "display_data"
    }
   ],
   "source": [
    "names = list(noisless_results.keys())\n",
    "values = list(noisless_results.values())\n",
    "\n",
    "plt.bar(range(len(noisless_results)), values, tick_label=names)\n",
    "plt.show()"
   ]
  },
  {
   "cell_type": "markdown",
   "id": "94215829",
   "metadata": {},
   "source": [
    "### Plot noisy results"
   ]
  },
  {
   "cell_type": "code",
   "execution_count": 266,
   "id": "7826dd77",
   "metadata": {},
   "outputs": [
    {
     "data": {
      "image/png": "[encoded data removed]",
      "text/plain": [
       "<Figure size 432x288 with 1 Axes>"
      ]
     },
     "metadata": {
      "needs_background": "light"
     },
     "output_type": "display_data"
    }
   ],
   "source": [
    "names = list(noisy_results.keys())\n",
    "values = list(noisy_results.values())\n",
    "\n",
    "plt.bar(range(len(noisy_results)), values, tick_label=names)\n",
    "plt.show()"
   ]
  },
  {
   "cell_type": "markdown",
   "id": "6dec2601",
   "metadata": {},
   "source": [
    "Even with no gates and a single qubit, the noisy `qvm` produces some effects on the system."
   ]
  },
  {
   "cell_type": "markdown",
   "id": "d8d793df",
   "metadata": {},
   "source": [
    "## Iterate over dictionary of single qubit gates"
   ]
  },
  {
   "cell_type": "code",
   "execution_count": 229,
   "id": "6bf416c1",
   "metadata": {},
   "outputs": [],
   "source": [
    "noiseless_dict_data = {key: run_circuit_get_norm_counts(qc_noiseless,value,num_qubits,qubit,shots) \n",
    " for key, value in gates.items()}\n",
    "noisy_dict_data = {key: run_circuit_get_norm_counts(qc_noisy,value,num_qubits,qubit,shots) \n",
    " for key, value in gates.items()}"
   ]
  },
  {
   "cell_type": "code",
   "execution_count": 230,
   "id": "a5217820",
   "metadata": {},
   "outputs": [
    {
     "data": {
      "text/plain": [
       "{'I': {'0': 0.9764, '1': 0.0236},\n",
       " 'S': {'0': 0.9762, '1': 0.0238},\n",
       " 'T': {'0': 0.9731, '1': 0.0269},\n",
       " 'X': {'0': 0.0876, '1': 0.9124},\n",
       " 'Y': {'0': 0.0913, '1': 0.9087},\n",
       " 'Z': {'0': 0.9753, '1': 0.0247},\n",
       " 'H': {'0': 0.5339, '1': 0.4661},\n",
       " 'RX': {'0': 0.0957, '1': 0.9043},\n",
       " 'RY': {'0': 0.0866, '1': 0.9134},\n",
       " 'RZ': {'0': 0.974, '1': 0.026}}"
      ]
     },
     "execution_count": 230,
     "metadata": {},
     "output_type": "execute_result"
    }
   ],
   "source": [
    "noisy_dict_data"
   ]
  },
  {
   "cell_type": "markdown",
   "id": "a5c9e405",
   "metadata": {},
   "source": [
    "## Noiseless execution"
   ]
  },
  {
   "cell_type": "code",
   "execution_count": 292,
   "id": "b8244c49",
   "metadata": {
    "scrolled": false
   },
   "outputs": [
    {
     "data": {
      "image/png": "[encoded data removed]",
      "text/plain": [
       "<Figure size 864x1152 with 10 Axes>"
      ]
     },
     "metadata": {
      "needs_background": "light"
     },
     "output_type": "display_data"
    }
   ],
   "source": [
    "fig, axes = plt.subplots(5,2,sharex=True,sharey=True,figsize=(12,16))\n",
    "axes = axes.ravel()\n",
    "for i, (key, value) in enumerate(noiseless_dict_data.items()):\n",
    "    names = list(value.keys())\n",
    "    xvalue = range(len(value.keys()))\n",
    "    yvalue = value.values()\n",
    "    axes[i].bar(xvalue,yvalue,tick_label=names)\n",
    "    axes[i].set(title=key.upper(), xlabel='')\n",
    "plt.show()"
   ]
  },
  {
   "cell_type": "markdown",
   "id": "05c975a8",
   "metadata": {},
   "source": [
    "## Noisy execution"
   ]
  },
  {
   "cell_type": "code",
   "execution_count": 291,
   "id": "d6d92880",
   "metadata": {},
   "outputs": [
    {
     "data": {
      "image/png": "[encoded data removed]",
      "text/plain": [
       "<Figure size 864x1152 with 10 Axes>"
      ]
     },
     "metadata": {
      "needs_background": "light"
     },
     "output_type": "display_data"
    }
   ],
   "source": [
    "fig, axes = plt.subplots(5,2,sharex=True,sharey=True,figsize=(12,16))\n",
    "axes = axes.ravel()\n",
    "for i, (key, value) in enumerate(noisy_dict_data.items()):\n",
    "    names = list(value.keys())\n",
    "    xvalue = range(len(value.keys()))\n",
    "    yvalue = value.values()\n",
    "    axes[i].bar(xvalue,yvalue,tick_label=names)\n",
    "    axes[i].set(title=key.upper(), xlabel='')\n",
    "plt.show()"
   ]
  },
  {
   "cell_type": "code",
   "execution_count": null,
   "id": "d50890fe",
   "metadata": {},
   "outputs": [],
   "source": []
  }
 ],
 "metadata": {
  "kernelspec": {
   "display_name": "Python 3 (ipykernel)",
   "language": "python",
   "name": "python3"
  },
  "language_info": {
   "codemirror_mode": {
    "name": "ipython",
    "version": 3
   },
   "file_extension": ".py",
   "mimetype": "text/x-python",
   "name": "python",
   "nbconvert_exporter": "python",
   "pygments_lexer": "ipython3",
   "version": "3.9.12"
  }
 },
 "nbformat": 4,
 "nbformat_minor": 5
}
